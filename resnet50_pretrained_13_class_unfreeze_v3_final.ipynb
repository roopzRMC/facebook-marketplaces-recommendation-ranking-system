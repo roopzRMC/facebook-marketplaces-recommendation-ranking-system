{
 "cells": [
  {
   "cell_type": "code",
   "execution_count": null,
   "id": "7f8def34-fade-43cc-b2c5-605a8bc5c857",
   "metadata": {
    "id": "7f8def34-fade-43cc-b2c5-605a8bc5c857",
    "outputId": "fe3eb20e-7c4a-4cbf-a9ab-cda63c85a924"
   },
   "outputs": [
    {
     "name": "stdout",
     "output_type": "stream",
     "text": [
      "cuda\n"
     ]
    }
   ],
   "source": [
    "# Import PyTorch\n",
    "import torch\n",
    "\n",
    "# Import os for file related activities and folder navigation\n",
    "import os\n",
    "\n",
    "# Import Pandas for data manipulation\n",
    "import pandas as pd\n",
    "\n",
    "# Import the Python Imaging Library (PIL) for image processing\n",
    "from PIL import Image\n",
    "\n",
    "# Import PyTorch torchvision.transforms for image transformations during training\n",
    "import torchvision.transforms as transforms\n",
    "\n",
    "# Import PyTorch torchvision.datasets and models\n",
    "from torchvision import datasets, models\n",
    "\n",
    "# Import NumPy for numerical operations\n",
    "import numpy as np\n",
    "\n",
    "import json\n",
    "\n",
    "# Import the requests library for HTTP requests\n",
    "import requests\n",
    "\n",
    "import warnings\n",
    "warnings.filterwarnings('ignore')\n",
    "\n",
    "# Import PyTorch Dataset and DataLoader for data handling\n",
    "from torch.utils.data import Dataset, DataLoader\n",
    "\n",
    "# Import PyTorch functional and neural network libraries\n",
    "import torch.nn.functional as F\n",
    "import torch.nn as nn\n",
    "\n",
    "# Import torchvision for additional image-related functionality\n",
    "import torchvision\n",
    "\n",
    "# Import SummaryWriter from torch.utils.tensorboard for TensorBoard logging\n",
    "from torch.utils.tensorboard import SummaryWriter\n",
    "\n",
    "# Import datetime and time for date and time operations\n",
    "import datetime\n",
    "import time\n",
    "\n",
    "# Import specific components from torchvision.models.resnet\n",
    "from torchvision.models.resnet import *\n",
    "from torchvision.models.resnet import BasicBlock, Bottleneck\n",
    "\n",
    "# Clear GPU cache using torch.cuda.empty_cache()\n",
    "torch.cuda.empty_cache()\n",
    "\n",
    "# Determine the device (GPU or CPU) available for computation - ensure that cuda is displayed\n",
    "device = torch.device(\"cuda\") if torch.cuda.is_available() else torch.device(\"cpu\")\n",
    "print(device)"
   ]
  },
  {
   "cell_type": "code",
   "execution_count": null,
   "id": "04b15a12-db33-4fef-bbed-28a70b7f7d6f",
   "metadata": {
    "id": "04b15a12-db33-4fef-bbed-28a70b7f7d6f"
   },
   "outputs": [],
   "source": [
    "## start the tensorboard\n",
    "%load_ext tensorboard"
   ]
  },
  {
   "cell_type": "code",
   "execution_count": null,
   "id": "30b3045d-c421-414c-aaec-55994ef6e380",
   "metadata": {
    "id": "30b3045d-c421-414c-aaec-55994ef6e380",
    "outputId": "16c25dc3-eb96-49df-8da8-1ba0cd7637c3"
   },
   "outputs": [
    {
     "data": {
      "text/html": [
       "\n",
       "      <iframe id=\"tensorboard-frame-649d8fe959d11c\" width=\"100%\" height=\"800\" frameborder=\"0\">\n",
       "      </iframe>\n",
       "      <script>\n",
       "        (function() {\n",
       "          const frame = document.getElementById(\"tensorboard-frame-649d8fe959d11c\");\n",
       "          const url = new URL(\"/proxy/6006/\", window.location);\n",
       "          const port = 0;\n",
       "          if (port) {\n",
       "            url.port = port;\n",
       "          }\n",
       "          frame.src = url;\n",
       "        })();\n",
       "      </script>\n",
       "    "
      ],
      "text/plain": [
       "<IPython.core.display.HTML object>"
      ]
     },
     "metadata": {},
     "output_type": "display_data"
    }
   ],
   "source": [
    "%tensorboard --logdir logs"
   ]
  },
  {
   "cell_type": "code",
   "execution_count": null,
   "id": "41d12edf-672b-459b-9e83-9943f283a7ad",
   "metadata": {
    "id": "41d12edf-672b-459b-9e83-9943f283a7ad",
    "outputId": "a8d54c54-cded-42d7-86a4-5067fe1bccab"
   },
   "outputs": [
    {
     "name": "stderr",
     "output_type": "stream",
     "text": [
      "2023-06-14 07:38:05.910798: I tensorflow/core/platform/cpu_feature_guard.cc:182] This TensorFlow binary is optimized to use available CPU instructions in performance-critical operations.\n",
      "To enable the following instructions: AVX2 FMA, in other operations, rebuild TensorFlow with the appropriate compiler flags.\n"
     ]
    }
   ],
   "source": [
    "## Instantiate the writer object that is called during model training\n",
    "writer = SummaryWriter(log_dir='logs')"
   ]
  },
  {
   "cell_type": "code",
   "execution_count": null,
   "id": "6010f360-bb71-4b90-8ba8-d1d074259cd8",
   "metadata": {
    "id": "6010f360-bb71-4b90-8ba8-d1d074259cd8",
    "outputId": "fa7dc653-7895-4832-bd74-7c2d9fcc6250"
   },
   "outputs": [
    {
     "data": {
      "text/plain": [
       "'/home/jupyter/facebook-marketplaces-recommendation-ranking-system/Practicals'"
      ]
     },
     "execution_count": 6,
     "metadata": {},
     "output_type": "execute_result"
    }
   ],
   "source": [
    "## Check the working directory\n",
    "os.getcwd()"
   ]
  },
  {
   "cell_type": "code",
   "execution_count": null,
   "id": "eb9734df-f22b-460a-9c87-142a45123c65",
   "metadata": {
    "id": "eb9734df-f22b-460a-9c87-142a45123c65"
   },
   "outputs": [],
   "source": [
    "## Creating a train dataset class\n",
    "class ItemsTrainDataSet(Dataset):\n",
    "    \"\"\"\n",
    "    A custom dataset class for image training data.\n",
    "    \n",
    "    This class inherits from the PyTorch Dataset class and will \n",
    "    load and preprocess image training data.\n",
    "\n",
    "    Attributes\n",
    "    ----------\n",
    "    None\n",
    "\n",
    "    Methods\n",
    "    -------\n",
    "    __init__():\n",
    "        Initializes a new ItemsTrainDataSet instance.\n",
    "    _load_examples():\n",
    "        Loads and prepares a list of image examples.\n",
    "    __getitem__(idx):\n",
    "        Retrieves an image and its associated class label by index.\n",
    "    __len__():\n",
    "        Returns the total number of examples in the dataset.\n",
    "    \"\"\"\n",
    "    def __init__(self):\n",
    "        \"\"\"\n",
    "        Initialize a new ItemsTrainDataSet instance.\n",
    "\n",
    "        This constructor sets up the necessary transformations for image preprocessing.\n",
    "        \"\"\"        \n",
    "        super().__init__()\n",
    "        self.examples = self._load_examples()\n",
    "        self.pil_to_tensor = transforms.ToTensor()\n",
    "        self.resize = transforms.Resize((225,225))\n",
    "        #self.rgbify = transforms.Lambda(lambda x: x.repeat(3, 1, 1) if x.size(0)==1 else x)\n",
    "\n",
    "    def _load_examples(self):\n",
    "        \"\"\"\n",
    "        Load and prepare a list of image examples.\n",
    "\n",
    "        This method scans the training directory, assigns class labels,\n",
    "        and collects a list of image file paths.\n",
    "\n",
    "        Returns\n",
    "        -------\n",
    "        list\n",
    "            A list of tuples containing image file paths and their class labels.\n",
    "        \"\"\"        \n",
    "        class_names = os.listdir('pytorch_images_tv_split_2/train')\n",
    "        class_encoder = {class_name: idx for idx, class_name in enumerate(class_names)}\n",
    "        class_decoder = {idx: class_name for idx, class_name in enumerate(class_names)}\n",
    "\n",
    "        examples_list = []\n",
    "        for cl_name in class_names:\n",
    "            example_fp = os.listdir(os.path.join('pytorch_images_tv_split_2/train',cl_name))\n",
    "            example_fp = [os.path.join('pytorch_images_tv_split_2/train', cl_name, img_name ) for img_name in example_fp]\n",
    "            example = [(img_name, class_encoder[cl_name]) for img_name in example_fp]\n",
    "            examples_list.extend(example)\n",
    "\n",
    "        return examples_list\n",
    "\n",
    "    def __getitem__(self, idx):\n",
    "        \"\"\"\n",
    "        Retrieve an image and its associated class label by index.\n",
    "\n",
    "        Parameters\n",
    "        ----------\n",
    "        idx : int\n",
    "            The index of the item to retrieve.\n",
    "\n",
    "        Returns\n",
    "        -------\n",
    "        tuple\n",
    "            A tuple containing the preprocessed image and its class label.\n",
    "        \"\"\"        \n",
    "        img_fp, img_class = self.examples[idx]\n",
    "        img = Image.open(img_fp)\n",
    "\n",
    "        features = self.pil_to_tensor(img)\n",
    "        features = self.resize(features)\n",
    "        #features = self.rgbify(features)\n",
    "\n",
    "        return features, img_class\n",
    "\n",
    "    def __len__(self):\n",
    "        \"\"\"\n",
    "        Return the total number of examples in the dataset.\n",
    "\n",
    "        Returns\n",
    "        -------\n",
    "        int\n",
    "            The total number of examples in the dataset.\n",
    "        \"\"\"        \n",
    "        return len(self.examples)"
   ]
  },
  {
   "cell_type": "code",
   "execution_count": null,
   "id": "335d1a2c-34e5-4d3a-9be1-2706e4cb014b",
   "metadata": {
    "id": "335d1a2c-34e5-4d3a-9be1-2706e4cb014b"
   },
   "outputs": [],
   "source": [
    "## Creates a validation dataset class\n",
    "class ItemsValDataSet(Dataset):\n",
    "    \"\"\"\n",
    "    A custom dataset class for image validation data.\n",
    "    \n",
    "    This class inherits from the PyTorch Dataset class and is designed\n",
    "    for loading and preprocessing image validation data.\n",
    "\n",
    "    Attributes\n",
    "    ----------\n",
    "    None\n",
    "\n",
    "    Methods\n",
    "    -------\n",
    "    __init__():\n",
    "        Initializes a new ItemsValDataSet instance.\n",
    "    _load_examples():\n",
    "        Loads and prepares a list of image examples.\n",
    "    __getitem__(idx):\n",
    "        Retrieves an image and its corresponding class label by index.\n",
    "    __len__():\n",
    "        Returns the total number of examples in the dataset.\n",
    "    \"\"\"\n",
    "    def __init__(self):\n",
    "        \"\"\"\n",
    "        Initialize a new ItemsValDataSet instance.\n",
    "\n",
    "        This constructor sets up the necessary transformations for image preprocessing.\n",
    "        \"\"\"\n",
    "        super().__init__()\n",
    "        self.examples = self._load_examples()\n",
    "        self.pil_to_tensor = transforms.ToTensor()\n",
    "        self.resize = transforms.Resize((225,225))\n",
    "        #self.rgbify = transforms.Lambda(lambda x: x.repeat(3, 1, 1) if x.size(0)!=1 else x)\n",
    "\n",
    "    def _load_examples(self):\n",
    "        \"\"\"\n",
    "        Load and prepare a list of image examples.\n",
    "\n",
    "        This method scans the validation directory, assigns class labels,\n",
    "        and collects a list of image file paths.\n",
    "\n",
    "        Returns\n",
    "        -------\n",
    "        list\n",
    "            A list of tuples containing image file paths and their class labels.\n",
    "        \"\"\"        \n",
    "        class_names = os.listdir('pytorch_images_tv_split_2/val')\n",
    "        class_encoder = {class_name: idx for idx, class_name in enumerate(class_names)}\n",
    "        class_decoder = {idx: class_name for idx, class_name in enumerate(class_names)}\n",
    "        examples_list = []\n",
    "\n",
    "        for cl_name in class_names:\n",
    "            example_fp = os.listdir(os.path.join('pytorch_images_tv_split_2/val',cl_name))\n",
    "            example_fp = [os.path.join('pytorch_images_tv_split_2/val', cl_name, img_name ) for img_name in example_fp]\n",
    "            example = [(img_name, class_encoder[cl_name]) for img_name in example_fp]\n",
    "            examples_list.extend(example)\n",
    "\n",
    "        return examples_list\n",
    "\n",
    "    def __getitem__(self, idx):\n",
    "        \"\"\"\n",
    "        Retrieve an image and its corresponding class label by index.\n",
    "\n",
    "        Parameters\n",
    "        ----------\n",
    "        idx : int\n",
    "            The index of the item to retrieve.\n",
    "\n",
    "        Returns\n",
    "        -------\n",
    "        tuple\n",
    "            A tuple containing the preprocessed image and its class label.\n",
    "        \"\"\"        \n",
    "        img_fp, img_class = self.examples[idx]\n",
    "        img = Image.open(img_fp)\n",
    "\n",
    "        features = self.pil_to_tensor(img)\n",
    "        features = self.resize(features)\n",
    "        #features = self.rgbify(features)\n",
    "\n",
    "        return features, img_class\n",
    "\n",
    "    def __len__(self):\n",
    "        \"\"\"\n",
    "        Return the total number of examples in the dataset.\n",
    "\n",
    "        Returns\n",
    "        -------\n",
    "        int\n",
    "            The total number of examples in the dataset.\n",
    "        \"\"\"        \n",
    "        return len(self.examples)"
   ]
  },
  {
   "cell_type": "code",
   "execution_count": null,
   "id": "5598f647-b593-4dd2-acd8-7040c6ec2f9d",
   "metadata": {
    "id": "5598f647-b593-4dd2-acd8-7040c6ec2f9d"
   },
   "outputs": [],
   "source": [
    "# Create the traindataset object \n",
    "traindataset = ItemsTrainDataSet()\n",
    "# Check the number of training images is as expected\n",
    "len(traindataset)"
   ]
  },
  {
   "cell_type": "code",
   "execution_count": null,
   "id": "5754c01e-76ca-452a-8110-6f3b2aa8f9a4",
   "metadata": {
    "id": "5754c01e-76ca-452a-8110-6f3b2aa8f9a4",
    "outputId": "f0a7e7fc-0a1c-4110-cf94-caada9eb2a9d"
   },
   "outputs": [
    {
     "data": {
      "text/plain": [
       "922"
      ]
     },
     "execution_count": 11,
     "metadata": {},
     "output_type": "execute_result"
    }
   ],
   "source": [
    "# Create the validation dataset object\n",
    "valdataset = ItemsValDataSet()\n",
    "# Check the number of training images is as expected\n",
    "len(valdataset)"
   ]
  },
  {
   "cell_type": "code",
   "execution_count": null,
   "id": "060b5233-c30a-4fbe-aa11-17ce9f3e7d75",
   "metadata": {
    "id": "060b5233-c30a-4fbe-aa11-17ce9f3e7d75"
   },
   "outputs": [],
   "source": [
    "## Created a classifier based on the RESNET50 pretrained model\n",
    "\n",
    "class ItemClassifier(torch.nn.Module):\n",
    "    \"\"\"\n",
    "    A custom nn.Module class housing the classifier which is\n",
    "    based on a gpu-derived pretrained resnet50 from NVIDA torchhub\n",
    "    \n",
    "    Attributes\n",
    "    ----------\n",
    "    None\n",
    "    \n",
    "    \n",
    "    Methods\n",
    "    -------\n",
    "    __init__():\n",
    "        Initialises the classifier and loads the model from the torchhub\n",
    "        unless it is able to detect a cached instance.\n",
    "        Replaces the final layer with a 13 class output\n",
    "    \n",
    "    forward():\n",
    "        Initiates the forward pass\n",
    "        \n",
    "    \"\"\"    \n",
    "    def __init__(self):\n",
    "        super().__init__()\n",
    "        self.resnet50 = torch.hub.load('NVIDIA/DeepLearningExamples:torchhub', 'nvidia_resnet50', pretrained=True)\n",
    "        #self.resnet50 = model\n",
    "        self.resnet50.fc = torch.nn.Linear(2048,13)\n",
    "\n",
    "    def forward(self, X):\n",
    "        return F.softmax(self.resnet50(X))"
   ]
  },
  {
   "cell_type": "code",
   "execution_count": null,
   "id": "afd79aea-afa0-4142-b5c5-8e141a7a223c",
   "metadata": {
    "id": "afd79aea-afa0-4142-b5c5-8e141a7a223c"
   },
   "outputs": [],
   "source": [
    "def train(model,traindataloader, valdataloader, epochs):\n",
    "    \"\"\"\n",
    "    Train the modified pretrained resnet50 classifier.\n",
    "    \n",
    "    The model weights are written after each epoch to model_evaluation in\n",
    "    the current working directory\n",
    "    \n",
    "    In addition at the end of each epoch:\n",
    "        Validation Accuracy\n",
    "        Validation Loss\n",
    "        Training Accuracy\n",
    "        Training Loss\n",
    "    are written to the logs file for the tensorboard to visualise\n",
    "    performance\n",
    "\n",
    "    Parameters\n",
    "    ----------\n",
    "    model : torch.nn.Module\n",
    "        The deep learning model to be trained.\n",
    "    traindataloader : torch.utils.data.DataLoader\n",
    "        DataLoader for the training dataset.\n",
    "    valdataloader : torch.utils.data.DataLoader\n",
    "        DataLoader for the validation dataset.\n",
    "    epochs : int\n",
    "        The number of training epochs.\n",
    "\n",
    "    Returns\n",
    "    -------\n",
    "    None\n",
    "    \"\"\"    \n",
    "    optimiser = torch.optim.SGD(model.parameters(), lr=0.01)\n",
    "    model_path = str(os.path.join('model_evaluation', time.strftime(\"%Y%m%d-%H%M%S\")))\n",
    "    os.makedirs(model_path)\n",
    "    os.makedirs(os.path.join(model_path, 'weights'))\n",
    "\n",
    "    global_step = 0\n",
    "\n",
    "    for epoch in range(epochs):\n",
    "        training_loss = 0.0\n",
    "        validation_loss = 0.0\n",
    "        model.to(device)\n",
    "        model.train()\n",
    "        tr_num_correct = 0\n",
    "        tr_num_examples = 0\n",
    "        epoch_combo = 'epoch' + str(epoch)\n",
    "        os.makedirs(os.path.join(model_path, 'weights', epoch_combo))\n",
    "        for inputs, labels in traindataloader:\n",
    "            inputs = inputs.to(device)\n",
    "            labels = labels.to(device)\n",
    "            predictions = model(inputs)\n",
    "            loss = torch.nn.CrossEntropyLoss()\n",
    "            loss = loss(predictions, labels)\n",
    "            loss.backward()\n",
    "            optimiser.step()\n",
    "            model_save_dir = str(os.path.join(model_path, 'weights', epoch_combo, 'weights.pt'))\n",
    "            full_path = str('/home/jupyter/facebook-marketplaces-recommendation-ranking-system/Practicals')\n",
    "            torch.save({'epoch': epoch,\n",
    "                  'model_state_dict': model.state_dict(),\n",
    "                  'optimizer_state_dict': optimiser.state_dict()},\n",
    "                  str(os.path.join(full_path, model_save_dir)))\n",
    "\n",
    "            optimiser.zero_grad()\n",
    "            training_loss += loss.item() * inputs.size(0)\n",
    "            correct = torch.eq(torch.max(F.softmax(predictions, dim=1), dim=1)[1], labels)\n",
    "            tr_num_correct += torch.sum(correct).item()\n",
    "            tr_num_examples += correct.shape[0]\n",
    "        training_loss /= len(traindataloader.dataset)\n",
    "        training_accuracy = tr_num_correct / tr_num_examples\n",
    "        ## add training performance to tensorboard\n",
    "        writer.add_scalar('Training Loss', training_loss, global_step)\n",
    "        writer.add_scalar('Training Accuracy', training_accuracy, global_step)\n",
    "\n",
    "        model.eval()\n",
    "        val_num_correct = 0\n",
    "        val_num_examples = 0\n",
    "        for inputs, labels in valdataloader:\n",
    "            inputs = inputs.to(device)\n",
    "            labels = labels.to(device)\n",
    "            predictions = model(inputs)\n",
    "            loss = torch.nn.CrossEntropyLoss()\n",
    "            loss = loss(predictions, labels)\n",
    "            validation_loss += loss.item() * inputs.size(0)\n",
    "            correct = torch.eq(torch.max(F.softmax(predictions, dim =1), dim=1)[1], labels)\n",
    "            val_num_correct += torch.sum(correct).item()\n",
    "            val_num_examples += correct.shape[0]\n",
    "        validation_loss /= len(valdataloader.dataset)\n",
    "        validation_accuracy = val_num_correct / val_num_examples\n",
    "        ## add validation performance to tensorboard\n",
    "        writer.add_scalar('Validation Loss', validation_loss, global_step)\n",
    "        writer.add_scalar('Validation Accuracy', validation_accuracy, global_step)\n",
    "        perf_dict = {}\n",
    "        perf_dict[epoch] = {'training_loss': training_loss,\n",
    "                            'val_loss': validation_loss,\n",
    "                            'training_accuracy': tr_num_correct / tr_num_examples,\n",
    "                            'val_accuracy': val_num_correct / val_num_examples}\n",
    "\n",
    "\n",
    "        print('Epoch: {}, Training Loss: {:.2f}, Validation Loss: {:.2f}, train_accuracy = {:.2f},val_accuracy = {:.2f} '.format(epoch, training_loss, validation_loss, tr_num_correct / tr_num_examples,\n",
    "                                                                                                                             val_num_correct / val_num_examples))\n",
    "        global_step += 1"
   ]
  },
  {
   "cell_type": "code",
   "execution_count": null,
   "id": "d91ba037-56f2-4878-86d3-14033352b6b4",
   "metadata": {
    "id": "d91ba037-56f2-4878-86d3-14033352b6b4",
    "outputId": "820885e0-aa93-42c5-de08-922b2d2e950f"
   },
   "outputs": [
    {
     "name": "stderr",
     "output_type": "stream",
     "text": [
      "Using cache found in /home/jupyter/.cache/torch/hub/NVIDIA_DeepLearningExamples_torchhub\n"
     ]
    }
   ],
   "source": [
    "## Create the classifier object from the ItemClassifier class\n",
    "classifier = ItemClassifier()"
   ]
  },
  {
   "cell_type": "code",
   "execution_count": null,
   "id": "088dc544-bbd6-4465-9cb0-84a3c709e28e",
   "metadata": {
    "id": "088dc544-bbd6-4465-9cb0-84a3c709e28e"
   },
   "outputs": [],
   "source": [
    "## define the layers to unfreeze and then retrain\n",
    "layers_to_unfreeze = ['layers.2', 'layers.3']\n",
    "\n",
    "for name, param in classifier.resnet50.named_parameters():\n",
    "    for layer_name in layers_to_unfreeze:\n",
    "        if layer_name in name:\n",
    "            param.requires_grad = True\n",
    "            break\n"
   ]
  },
  {
   "cell_type": "code",
   "execution_count": null,
   "id": "e855620e-03fd-439e-bd15-5aa9960d2d49",
   "metadata": {
    "id": "e855620e-03fd-439e-bd15-5aa9960d2d49",
    "outputId": "7c44a86e-432e-498f-d647-25f69882e918"
   },
   "outputs": [
    {
     "name": "stdout",
     "output_type": "stream",
     "text": [
      "Epoch: 0, Training Loss: 2.56, Validation Loss: 2.56, train_accuracy = 0.10,val_accuracy = 0.11 \n"
     ]
    }
   ],
   "source": [
    "## Create the train and validation loaders\n",
    "## Pass the loaders, classifier and desired number of epochs to the train function define above\n",
    "train_loader = DataLoader(dataset = traindataset, batch_size=16)\n",
    "val_loader = DataLoader(dataset = valdataset, batch_size=16)\n",
    "train(classifier, traindataloader= train_loader, valdataloader= val_loader, epochs=150)\n"
   ]
  }
 ],
 "metadata": {
  "colab": {
   "provenance": []
  },
  "environment": {
   "kernel": "python3",
   "name": "pytorch-gpu.1-13.m108",
   "type": "gcloud",
   "uri": "gcr.io/deeplearning-platform-release/pytorch-gpu.1-13:m108"
  },
  "kernelspec": {
   "display_name": "Python 3 (ipykernel)",
   "language": "python",
   "name": "python3"
  },
  "language_info": {
   "codemirror_mode": {
    "name": "ipython",
    "version": 3
   },
   "file_extension": ".py",
   "mimetype": "text/x-python",
   "name": "python",
   "nbconvert_exporter": "python",
   "pygments_lexer": "ipython3",
   "version": "3.8.10"
  }
 },
 "nbformat": 4,
 "nbformat_minor": 5
}
