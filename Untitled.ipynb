{
 "cells": [
  {
   "cell_type": "code",
   "execution_count": 6,
   "id": "5852f789-8527-483a-9c73-4d3c9f41281d",
   "metadata": {},
   "outputs": [],
   "source": [
    "import os\n",
    "os.chdir('/home/ubuntu/facebook-marketplaces-recommendation-ranking-system/Practicals/')\n",
    "import zipfile\n",
    "with zipfile.ZipFile('pytorch_images_tv.zip', 'r') as zip_ref:\n",
    "    zip_ref.extractall()"
   ]
  },
  {
   "cell_type": "code",
   "execution_count": 2,
   "id": "7c1477b4-bf9c-4309-896c-700ec098ab53",
   "metadata": {},
   "outputs": [
    {
     "data": {
      "text/plain": [
       "'/home/ubuntu/legacy_fb/facebook-marketplaces-recommendation-ranking-system/Practicals'"
      ]
     },
     "execution_count": 2,
     "metadata": {},
     "output_type": "execute_result"
    }
   ],
   "source": [
    "import os\n",
    "os.getcwd()"
   ]
  },
  {
   "cell_type": "code",
   "execution_count": 4,
   "id": "08b89b66-54af-44b8-ab16-6a4c910a5d4a",
   "metadata": {},
   "outputs": [
    {
     "data": {
      "text/plain": [
       "['13_class_resnet50_train_data_import_split.ipynb',\n",
       " 'resnet50_pretrained.ipynb',\n",
       " 'practicals_readme.md',\n",
       " 'data_cleansing.py',\n",
       " 'image_processor.ipynb',\n",
       " 'resnet50_pretrained_99pc.py',\n",
       " 'clean_images.py',\n",
       " '.ipynb_checkpoints',\n",
       " 'yaml_json.json',\n",
       " 'milestone4practical_1.py',\n",
       " 'logs',\n",
       " 'linear_regression.py',\n",
       " 'runs',\n",
       " 'resnet50_pretrained_99pc_unfreeze.py',\n",
       " 'clean_tabular_data.py',\n",
       " 'resnet50_pretrained_AntsBees_unfreeze.ipynb',\n",
       " 'resnet50_pretrained_13_class_feature_extraction.ipynb',\n",
       " 'untitled.py',\n",
       " 'aicore_images_split',\n",
       " 'Salaries.csv',\n",
       " 'final_model',\n",
       " 'create_image_training_set.py',\n",
       " 'resnet50_pretrained_13_class_unfreeze_v3.ipynb',\n",
       " 'sandbox.ipynb',\n",
       " 'resnet50_pretrained_13_class_unfreeze_v3_final.ipynb',\n",
       " 'Faiss_API',\n",
       " 'tabular_data.py',\n",
       " 'numpy_practicals.py',\n",
       " 'Untitled.ipynb',\n",
       " 'resnet50_pretrained_TRAINandVAL_ant_bee.py',\n",
       " 'resnet50_pretrained_13_class_unfreeze_v5_final.ipynb',\n",
       " 'aicore_images_split.zip',\n",
       " 'yaml_example.yaml',\n",
       " 'Faiss.ipynb',\n",
       " '__MACOSX',\n",
       " 'model_evaluation',\n",
       " 'tb_screenshots']"
      ]
     },
     "execution_count": 4,
     "metadata": {},
     "output_type": "execute_result"
    }
   ],
   "source": [
    "os.listdir()"
   ]
  },
  {
   "cell_type": "code",
   "execution_count": 5,
   "id": "3bec5d47-c37f-4f24-adec-02f73b13f67a",
   "metadata": {},
   "outputs": [],
   "source": [
    "os.chdir('/home/ubuntu/facebook-marketplaces-recommendation-ranking-system/Practicals/')"
   ]
  },
  {
   "cell_type": "code",
   "execution_count": 7,
   "id": "2f609595-6637-41e7-8bdf-9e7dcc2c4e50",
   "metadata": {},
   "outputs": [],
   "source": [
    "def remove_ds_store_files(root_folder):\n",
    "    for foldername, subfolders, filenames in os.walk(root_folder):\n",
    "        for filename in filenames:\n",
    "            if filename == \".DS_Store\":\n",
    "                file_path = os.path.join(foldername, filename)\n",
    "                os.remove(file_path)\n",
    "                print(f\"Removed: {file_path}\")"
   ]
  },
  {
   "cell_type": "code",
   "execution_count": 8,
   "id": "b31e7967-6e27-4a90-b207-b78c25e94a6e",
   "metadata": {},
   "outputs": [
    {
     "name": "stdout",
     "output_type": "stream",
     "text": [
      "Removed: pytorch_images_tv/.DS_Store\n",
      "Removed: pytorch_images_tv/val/.DS_Store\n",
      "Removed: pytorch_images_tv/train/.DS_Store\n"
     ]
    }
   ],
   "source": [
    "root_directory = \"pytorch_images_tv\"  # Replace with the actual path to your root folder\n",
    "remove_ds_store_files(root_directory)"
   ]
  },
  {
   "cell_type": "code",
   "execution_count": null,
   "id": "155e4a6f-9f7d-4d28-b252-debd609a3669",
   "metadata": {},
   "outputs": [],
   "source": []
  }
 ],
 "metadata": {
  "kernelspec": {
   "display_name": "Python 3 (ipykernel)",
   "language": "python",
   "name": "python3"
  },
  "language_info": {
   "codemirror_mode": {
    "name": "ipython",
    "version": 3
   },
   "file_extension": ".py",
   "mimetype": "text/x-python",
   "name": "python",
   "nbconvert_exporter": "python",
   "pygments_lexer": "ipython3",
   "version": "3.8.10"
  }
 },
 "nbformat": 4,
 "nbformat_minor": 5
}
