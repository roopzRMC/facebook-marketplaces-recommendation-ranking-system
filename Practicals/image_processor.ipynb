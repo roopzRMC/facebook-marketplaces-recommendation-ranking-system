{
 "cells": [
  {
   "cell_type": "code",
   "execution_count": 6,
   "id": "bc84aae4-d319-4195-812f-da9e978e8c8e",
   "metadata": {},
   "outputs": [
    {
     "name": "stdout",
     "output_type": "stream",
     "text": [
      "cuda\n"
     ]
    }
   ],
   "source": [
    "import torch\n",
    "import pandas as pd\n",
    "from PIL import Image\n",
    "import torchvision.transforms as transforms\n",
    "from torchvision import datasets, models\n",
    "import numpy as np\n",
    "import json\n",
    "import requests\n",
    "import matplotlib.pyplot as plt\n",
    "import warnings\n",
    "import os\n",
    "warnings.filterwarnings('ignore')\n",
    "from torch.utils.data import Dataset, DataLoader\n",
    "import torch.nn.functional as F\n",
    "import torchvision\n",
    "import matplotlib.pyplot as plt\n",
    "from google.cloud import storage\n",
    "#from torch.utils.tensorboard import SummaryWriter\n",
    "# %load_ext tensorboard\n",
    "import datetime\n",
    "import time\n",
    "import torch.nn as nn\n",
    "\n",
    "from torchvision.models.resnet import *\n",
    "from torchvision.models.resnet import BasicBlock, Bottleneck\n",
    "\n",
    "#torch.cuda.empty_cache() \n",
    "\n",
    "device = torch.device(\"cuda\") if torch.cuda.is_available() else torch.device(\"cpu\")\n",
    "print(device)"
   ]
  },
  {
   "cell_type": "code",
   "execution_count": 2,
   "id": "8557b33d-cb2c-4333-b8fb-e600632b6e1c",
   "metadata": {},
   "outputs": [],
   "source": [
    "def process_img(image):\n",
    "    pil_to_tensor = transforms.ToTensor()\n",
    "    resize = transforms.Resize((225,225))\n",
    "    img = Image.open(image).convert('RGB')\n",
    "    \n",
    "    features = pil_to_tensor(img)\n",
    "    features = resize(features)\n",
    "    features = torch.unsqueeze(features, dim=0)\n",
    "    print(features.shape)\n",
    "    return features"
   ]
  },
  {
   "cell_type": "code",
   "execution_count": 3,
   "id": "abaecdf3-a02d-48c1-87aa-2b119de268b6",
   "metadata": {},
   "outputs": [],
   "source": [
    "## Created a classifier based on the RESNET50 pretrained model\n",
    "\n",
    "class ItemFeatureExtractor(torch.nn.Module):\n",
    "    def __init__(self):\n",
    "        super().__init__()\n",
    "        self.resnet50 = torch.hub.load('NVIDIA/DeepLearningExamples:torchhub', 'nvidia_resnet50', pretrained=True)\n",
    "        #self.resnet50 = model\n",
    "        self.resnet50.fc = torch.nn.Linear(2048,13)\n",
    "  \n",
    "    def forward(self, X):\n",
    "        return F.softmax(self.resnet50(X))"
   ]
  },
  {
   "cell_type": "code",
   "execution_count": 4,
   "id": "65c333a7-6725-47a7-bdc0-7a5433d8cfe2",
   "metadata": {},
   "outputs": [
    {
     "name": "stderr",
     "output_type": "stream",
     "text": [
      "Using cache found in /home/jupyter/.cache/torch/hub/NVIDIA_DeepLearningExamples_torchhub\n"
     ]
    }
   ],
   "source": [
    "model = ItemFeatureExtractor()\n",
    "optimizer = torch.optim.SGD(model.parameters(), lr=0.01)\n",
    "checkpoint = torch.load('model_test/weights.pt')\n",
    "model.load_state_dict(checkpoint['model_state_dict'])\n",
    "optimizer.load_state_dict(checkpoint['optimizer_state_dict'])\n",
    "#epoch = checkpoint['epoch']\n",
    "#loss = checkpoint['loss']\n"
   ]
  },
  {
   "cell_type": "code",
   "execution_count": 7,
   "id": "a7fcea26-b9fa-4c87-b956-76a37c798226",
   "metadata": {},
   "outputs": [],
   "source": [
    "## remove last layer to 2048 feature output\n",
    "# Remove the last layer\n",
    "model = nn.Sequential(*list(model.resnet50.children())[:-1])"
   ]
  },
  {
   "cell_type": "code",
   "execution_count": 8,
   "id": "5fcb32cd-055c-4f2e-8be6-340ebab7c87c",
   "metadata": {},
   "outputs": [
    {
     "name": "stdout",
     "output_type": "stream",
     "text": [
      "torch.Size([1, 3, 225, 225])\n"
     ]
    }
   ],
   "source": [
    "# Pass the input tensor through the model\n",
    "model.eval()  # Set the model to evaluation mode\n",
    "output = model(process_img('pytorch_images/appliances/018.jpeg'))"
   ]
  },
  {
   "cell_type": "code",
   "execution_count": 10,
   "id": "39584c4b-2b08-4eee-ba66-1e7b2ddce9c3",
   "metadata": {},
   "outputs": [
    {
     "data": {
      "text/plain": [
       "torch.Size([1, 2048, 1, 1])"
      ]
     },
     "execution_count": 10,
     "metadata": {},
     "output_type": "execute_result"
    }
   ],
   "source": [
    "## Test that 2048 features are being extracted\n",
    "output.shape"
   ]
  },
  {
   "cell_type": "code",
   "execution_count": null,
   "id": "b54f334d-d54b-4f45-89dc-023b9141b175",
   "metadata": {},
   "outputs": [],
   "source": []
  }
 ],
 "metadata": {
  "environment": {
   "kernel": "python3",
   "name": "pytorch-gpu.1-13.m108",
   "type": "gcloud",
   "uri": "gcr.io/deeplearning-platform-release/pytorch-gpu.1-13:m108"
  },
  "kernelspec": {
   "display_name": "Python 3",
   "language": "python",
   "name": "python3"
  },
  "language_info": {
   "codemirror_mode": {
    "name": "ipython",
    "version": 3
   },
   "file_extension": ".py",
   "mimetype": "text/x-python",
   "name": "python",
   "nbconvert_exporter": "python",
   "pygments_lexer": "ipython3",
   "version": "3.10.10"
  }
 },
 "nbformat": 4,
 "nbformat_minor": 5
}
