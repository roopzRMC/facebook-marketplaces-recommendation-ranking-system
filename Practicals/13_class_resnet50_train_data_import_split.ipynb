{
 "cells": [
  {
   "cell_type": "code",
   "execution_count": 1,
   "id": "616277bc-8a91-4d2e-bbe5-a53ea3f9247a",
   "metadata": {},
   "outputs": [],
   "source": [
    "### Import libraries\n",
    "import torch\n",
    "import pandas as pd\n",
    "from PIL import Image\n",
    "import torchvision.transforms as transforms\n",
    "from torchvision import datasets, models\n",
    "import numpy as np\n",
    "import json\n",
    "import requests\n",
    "import matplotlib.pyplot as plt\n",
    "import warnings\n",
    "import os\n",
    "from google.cloud import storage\n",
    "warnings.filterwarnings('ignore')\n",
    "from torch.utils.data import Dataset, DataLoader\n",
    "import torch.nn.functional as F\n",
    "import torchvision\n",
    "import matplotlib.pyplot as plt\n",
    "from torch.utils.tensorboard import SummaryWriter\n",
    "import splitfolders\n",
    "# %load_ext tensorboard\n",
    "import datetime\n",
    "import time\n",
    "import zipfile\n",
    "import csv\n",
    "from tqdm import tqdm\n",
    "\n",
    "import random\n",
    "import shutil"
   ]
  },
  {
   "cell_type": "code",
   "execution_count": 2,
   "id": "c18d6d1e-6721-4895-bca1-978a65583a9a",
   "metadata": {},
   "outputs": [],
   "source": [
    "# Initialise a client\n",
    "storage_client = storage.Client(\"aicore-study\")\n",
    "# Create a bucket object for our bucket\n",
    "bucket = storage_client.get_bucket('pytorch_training_images_13_class')\n",
    "# Create a blob object from the filepath\n",
    "blob = bucket.blob(\"pytorch_images.zip\")\n",
    "# Download the file to a destination\n",
    "blob.download_to_filename(\"pytorch_images.zip\")"
   ]
  },
  {
   "cell_type": "code",
   "execution_count": 3,
   "id": "18f13a8f-c029-4f0a-9597-ba1003badf9c",
   "metadata": {},
   "outputs": [],
   "source": [
    "with zipfile.ZipFile('pytorch_images.zip', 'r') as zip_ref:\n",
    "    zip_ref.extractall()"
   ]
  },
  {
   "cell_type": "code",
   "execution_count": 4,
   "id": "452f2818-620c-41c6-bd2b-19844fb7a12e",
   "metadata": {},
   "outputs": [],
   "source": [
    "os.getcwd()\n",
    "pytorch_images = os.path.join(os.getcwd(), 'pytorch_images')\n",
    "os.remove(os.path.join(pytorch_images, '.DS_Store'))\n",
    "# Image classes\n",
    "class_list = os.listdir(pytorch_images)"
   ]
  },
  {
   "cell_type": "code",
   "execution_count": 5,
   "id": "3a5c5c92-dc8e-4c0a-a138-1aa83db1ecb0",
   "metadata": {},
   "outputs": [],
   "source": [
    "## remove all hidden files from class folders\n",
    "for img_class in class_list:\n",
    "    os.remove(os.path.join(pytorch_images, img_class, '.DS_Store'))"
   ]
  },
  {
   "cell_type": "code",
   "execution_count": 6,
   "id": "bf5fb18e-51e0-4563-adf9-6b64fbba3b93",
   "metadata": {},
   "outputs": [
    {
     "data": {
      "text/plain": [
       "['diytools',\n",
       " 'office',\n",
       " 'homegarden',\n",
       " 'phones',\n",
       " 'clothes',\n",
       " 'computers',\n",
       " 'booksfilmmusicgames',\n",
       " 'videogames',\n",
       " 'healthbeauty',\n",
       " 'kidstoys',\n",
       " 'appliances',\n",
       " 'sportsleisure',\n",
       " 'other']"
      ]
     },
     "execution_count": 6,
     "metadata": {},
     "output_type": "execute_result"
    }
   ],
   "source": [
    "class_list"
   ]
  },
  {
   "cell_type": "code",
   "execution_count": 7,
   "id": "0592e45f-4410-453d-a27d-875be672095f",
   "metadata": {},
   "outputs": [],
   "source": [
    "encoder = {}\n",
    "for class_no, class_label in enumerate(class_list):\n",
    "    encoder[class_label] = class_no"
   ]
  },
  {
   "cell_type": "code",
   "execution_count": 12,
   "id": "4ed703e3-da0a-4861-8c0a-6ebcd97bafc8",
   "metadata": {},
   "outputs": [],
   "source": [
    "for img_class in class_list:\n",
    "    for image in os.listdir(os.path.join(pytorch_images, img_class)):\n",
    "        if not image.lower().endswith(('.jpg', '.jpeg')):\n",
    "            os.remove(os.path.join(os.getcwd(),pytorch_images,img_class,image))"
   ]
  },
  {
   "cell_type": "code",
   "execution_count": 11,
   "id": "95293cab-2e70-4fb4-a3c7-c40aeb3ee52c",
   "metadata": {},
   "outputs": [],
   "source": [
    "## Clean the crazy images\n",
    "for img_class in class_list:\n",
    "    for image in os.listdir(os.path.join(pytorch_images, img_class)):\n",
    "        image_fp = os.path.join(pytorch_images, img_class, str(image))\n",
    "        image_obj = Image.open(os.path.join(pytorch_images, img_class, image)).convert('RGB').save(image_fp)\n",
    "        #if image_obj.mode != 'RGB':\n",
    "        #    print(f'removing image {image} from class {img_class}')\n",
    "        #    os.remove(image_fp)"
   ]
  },
  {
   "cell_type": "code",
   "execution_count": 13,
   "id": "e8b2c1f5-6137-4ab7-ba82-6e0630c40549",
   "metadata": {},
   "outputs": [],
   "source": [
    "img_class_dict = {}\n",
    "for img_class in class_list:\n",
    "    for image in os.listdir(os.path.join(os.getcwd(), pytorch_images, img_class)):\n",
    "        img_class_dict[image] = encoder[img_class]"
   ]
  },
  {
   "cell_type": "code",
   "execution_count": null,
   "id": "8787bb21-6bc9-4f37-84c2-465c919bb66b",
   "metadata": {},
   "outputs": [],
   "source": []
  },
  {
   "cell_type": "code",
   "execution_count": 14,
   "id": "b4196a97-a4b8-49d7-b220-3e38767b3db5",
   "metadata": {},
   "outputs": [],
   "source": [
    "## write the image class mapping to a csv file\n",
    "img_class_df = pd.DataFrame.from_dict(img_class_dict, orient='index', columns=['class'])\n",
    "img_class_df['image'] = img_class_df.index\n",
    "img_class_df = img_class_df.reset_index()\n",
    "col_order = ['image', 'class']\n",
    "img_class_df = img_class_df[col_order]\n",
    "img_class_df.to_csv('pytorch_images_training_data.csv', index=False)"
   ]
  },
  {
   "cell_type": "code",
   "execution_count": 15,
   "id": "3761c132-20c7-4736-a46c-91464ebfffbe",
   "metadata": {},
   "outputs": [
    {
     "data": {
      "text/html": [
       "<div>\n",
       "<style scoped>\n",
       "    .dataframe tbody tr th:only-of-type {\n",
       "        vertical-align: middle;\n",
       "    }\n",
       "\n",
       "    .dataframe tbody tr th {\n",
       "        vertical-align: top;\n",
       "    }\n",
       "\n",
       "    .dataframe thead th {\n",
       "        text-align: right;\n",
       "    }\n",
       "</style>\n",
       "<table border=\"1\" class=\"dataframe\">\n",
       "  <thead>\n",
       "    <tr style=\"text-align: right;\">\n",
       "      <th></th>\n",
       "      <th>image</th>\n",
       "      <th>class</th>\n",
       "    </tr>\n",
       "  </thead>\n",
       "  <tbody>\n",
       "    <tr>\n",
       "      <th>0</th>\n",
       "      <td>Speedy_Consumer_Image_Banners_290x267_43.jpg</td>\n",
       "      <td>0</td>\n",
       "    </tr>\n",
       "    <tr>\n",
       "      <th>1</th>\n",
       "      <td>51sZwwkkl9L.jpg</td>\n",
       "      <td>0</td>\n",
       "    </tr>\n",
       "    <tr>\n",
       "      <th>2</th>\n",
       "      <td>download-media.jpeg</td>\n",
       "      <td>0</td>\n",
       "    </tr>\n",
       "    <tr>\n",
       "      <th>3</th>\n",
       "      <td>drills-12v-18v-battery-bosch-diy--9f2ea6a88ddb...</td>\n",
       "      <td>0</td>\n",
       "    </tr>\n",
       "    <tr>\n",
       "      <th>4</th>\n",
       "      <td>1223-M020-PLP-stanley-fatmax-battery-desktab-v...</td>\n",
       "      <td>0</td>\n",
       "    </tr>\n",
       "  </tbody>\n",
       "</table>\n",
       "</div>"
      ],
      "text/plain": [
       "                                               image  class\n",
       "0       Speedy_Consumer_Image_Banners_290x267_43.jpg      0\n",
       "1                                    51sZwwkkl9L.jpg      0\n",
       "2                                download-media.jpeg      0\n",
       "3  drills-12v-18v-battery-bosch-diy--9f2ea6a88ddb...      0\n",
       "4  1223-M020-PLP-stanley-fatmax-battery-desktab-v...      0"
      ]
     },
     "execution_count": 15,
     "metadata": {},
     "output_type": "execute_result"
    }
   ],
   "source": [
    "img_class_df.head()"
   ]
  },
  {
   "cell_type": "code",
   "execution_count": 16,
   "id": "b2db47ad-e5bc-4a26-9c44-a5228b7689a9",
   "metadata": {},
   "outputs": [
    {
     "name": "stderr",
     "output_type": "stream",
     "text": [
      "\n",
      "Copying files: 0 files [00:00, ? files/s]\u001b[A\n",
      "Copying files: 428 files [00:00, 4241.11 files/s]\u001b[A\n",
      "Copying files: 853 files [00:00, 3716.17 files/s]\u001b[A\n",
      "Copying files: 1262 files [00:00, 3874.03 files/s]\u001b[A\n",
      "Copying files: 1653 files [00:00, 3672.98 files/s]\u001b[A\n",
      "Copying files: 2151 files [00:00, 4112.06 files/s]\u001b[A\n",
      "Copying files: 2621 files [00:00, 4287.86 files/s]\u001b[A\n",
      "Copying files: 3054 files [00:00, 3981.10 files/s]\u001b[A\n"
     ]
    }
   ],
   "source": [
    "splitfolders.ratio('pytorch_images', output='pytorch_images_tv_split_2', seed=42, ratio=(0.7,0.3))"
   ]
  },
  {
   "cell_type": "code",
   "execution_count": 2,
   "id": "6c982401-e6e1-4f77-bb73-371f137eab55",
   "metadata": {},
   "outputs": [],
   "source": [
    "## randomly pick 50 images from the master dir and push to another copy of the dir\n",
    "os.mkdir('pytorch_images_lite')\n",
    "source_dir = 'pytorch_images/'\n",
    "destination_dir = 'pytorch_images_lite'"
   ]
  },
  {
   "cell_type": "code",
   "execution_count": 3,
   "id": "780f9517-c224-42a3-858b-64557376cd2f",
   "metadata": {},
   "outputs": [],
   "source": [
    "for folder in os.listdir(source_dir):\n",
    "    folder_path = os.path.join(source_dir, folder)\n",
    "    if os.path.isdir(folder_path):  # Only process subdirectories\n",
    "        files = os.listdir(folder_path)\n",
    "        if len(files) > 100:\n",
    "            # Randomly sample 50 files\n",
    "            sampled_files = random.sample(files, 100)\n",
    "\n",
    "            # Create a new folder in the destination directory\n",
    "            new_folder_path = os.path.join(destination_dir, folder)\n",
    "            os.makedirs(new_folder_path, exist_ok=True)\n",
    "\n",
    "            # Copy the sampled files to the new folder\n",
    "            for file_name in sampled_files:\n",
    "                source_file_path = os.path.join(folder_path, file_name)\n",
    "                destination_file_path = os.path.join(new_folder_path, file_name)\n",
    "                shutil.copy2(source_file_path, destination_file_path)"
   ]
  },
  {
   "cell_type": "code",
   "execution_count": 4,
   "id": "4f85de1d-323a-4af0-a5c9-f813a21db794",
   "metadata": {},
   "outputs": [
    {
     "name": "stderr",
     "output_type": "stream",
     "text": [
      "Copying files: 1300 files [00:00, 3917.78 files/s]\n"
     ]
    }
   ],
   "source": [
    "splitfolders.ratio('pytorch_images_lite', output='pytorch_images_lite_split', seed=42, ratio=(0.7,0.3))"
   ]
  },
  {
   "cell_type": "code",
   "execution_count": null,
   "id": "8300e63e-287e-43f1-9823-bcd1be768e47",
   "metadata": {},
   "outputs": [],
   "source": []
  }
 ],
 "metadata": {
  "environment": {
   "kernel": "python3",
   "name": "pytorch-gpu.1-13.m108",
   "type": "gcloud",
   "uri": "gcr.io/deeplearning-platform-release/pytorch-gpu.1-13:m108"
  },
  "kernelspec": {
   "display_name": "Python 3",
   "language": "python",
   "name": "python3"
  },
  "language_info": {
   "codemirror_mode": {
    "name": "ipython",
    "version": 3
   },
   "file_extension": ".py",
   "mimetype": "text/x-python",
   "name": "python",
   "nbconvert_exporter": "python",
   "pygments_lexer": "ipython3",
   "version": "3.10.10"
  }
 },
 "nbformat": 4,
 "nbformat_minor": 5
}
