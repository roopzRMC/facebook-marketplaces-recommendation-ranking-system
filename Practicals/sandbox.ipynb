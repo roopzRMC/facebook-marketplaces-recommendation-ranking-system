{
 "cells": [
  {
   "attachments": {},
   "cell_type": "markdown",
   "metadata": {},
   "source": [
    "# Extract Labels for classification - Products and Images"
   ]
  },
  {
   "attachments": {},
   "cell_type": "markdown",
   "metadata": {},
   "source": [
    "## Importing and cleansing the data"
   ]
  },
  {
   "cell_type": "code",
   "execution_count": 1,
   "metadata": {},
   "outputs": [],
   "source": [
    "## Import required libraries and set plotly theme\n",
    "import numpy as np\n",
    "import pandas as pd\n",
    "import plotly\n",
    "import missingno as msno\n",
    "import os\n",
    "import plotly.express as px\n",
    "import plotly.io as pio\n",
    "pio.templates.default = \"plotly_dark\""
   ]
  },
  {
   "cell_type": "code",
   "execution_count": 2,
   "metadata": {},
   "outputs": [
    {
     "name": "stdout",
     "output_type": "stream",
     "text": [
      "<class 'pandas.core.frame.DataFrame'>\n",
      "RangeIndex: 7156 entries, 0 to 7155\n",
      "Data columns (total 6 columns):\n",
      " #   Column               Non-Null Count  Dtype  \n",
      "---  ------               --------------  -----  \n",
      " 0   id                   7156 non-null   object \n",
      " 1   product_name         7156 non-null   object \n",
      " 2   category             7156 non-null   object \n",
      " 3   product_description  7156 non-null   object \n",
      " 4   price                7156 non-null   float64\n",
      " 5   location             7156 non-null   object \n",
      "dtypes: float64(1), object(5)\n",
      "memory usage: 335.6+ KB\n"
     ]
    },
    {
     "name": "stderr",
     "output_type": "stream",
     "text": [
      "/Users/rupertcoghlan/miniforge3/envs/rmc_base_py_39/lib/python3.9/site-packages/seaborn/matrix.py:309: UserWarning: Attempting to set identical low and high xlims makes transformation singular; automatically expanding.\n",
      "  ax.set(xlim=(0, self.data.shape[1]), ylim=(0, self.data.shape[0]))\n",
      "/Users/rupertcoghlan/miniforge3/envs/rmc_base_py_39/lib/python3.9/site-packages/seaborn/matrix.py:309: UserWarning: Attempting to set identical low and high ylims makes transformation singular; automatically expanding.\n",
      "  ax.set(xlim=(0, self.data.shape[1]), ylim=(0, self.data.shape[0]))\n"
     ]
    },
    {
     "data": {
      "text/plain": [
       "array(['Home & Garden', 'Baby & Kids Stuff', 'DIY Tools & Materials',\n",
       "       'Music, Films, Books & Games', 'Phones, Mobile Phones & Telecoms',\n",
       "       'Clothes, Footwear & Accessories', 'Other Goods',\n",
       "       'Health & Beauty', 'Sports, Leisure & Travel', 'Appliances',\n",
       "       'Computers & Software', 'Office Furniture & Equipment',\n",
       "       'Video Games & Consoles'], dtype=object)"
      ]
     },
     "execution_count": 2,
     "metadata": {},
     "output_type": "execute_result"
    },
    {
     "data": {
      "image/png": "[encoded data removed]",
      "text/plain": [
       "<Figure size 2000x1200 with 2 Axes>"
      ]
     },
     "metadata": {},
     "output_type": "display_data"
    }
   ],
   "source": [
    "######## CLEAN THE IMAGES AND CSV FILES TO DATAFRAMES\n",
    "## import Images CSV files\n",
    "images_df = pd.read_csv('Images.csv')\n",
    "images_df = images_df.drop(columns='Unnamed: 0', axis=1)\n",
    "# %%\n",
    "## Preview the dataframe\n",
    "images_df.head()\n",
    "# %%\n",
    "## Check for the number of null values\n",
    "images_df.isnull().sum()\n",
    "# %%\n",
    "## Import Product CSV Files\n",
    "products_df = pd.read_csv('Products.csv', lineterminator='\\n')\n",
    "products_df = products_df.drop(columns='Unnamed: 0', axis=1)\n",
    "# %%\n",
    "## Preview and check for null values\n",
    "products_df.head()\n",
    "products_df.isna().sum()\n",
    "# %%\n",
    "\n",
    "msno.heatmap(products_df)\n",
    "# %%\n",
    "### Clean products price column\n",
    "price_regex_pattern = {'£': \"\",\n",
    "                       ',': \"\"}\n",
    "\n",
    "products_df['price'] = products_df['price'].replace(price_regex_pattern, regex=True)\n",
    "\n",
    "# %%\n",
    "## Instanstiate the price column as a float\n",
    "products_df['price'] = products_df['price'].astype(float)\n",
    "# %%\n",
    "products_df.info()\n",
    "# %%\n",
    "products_df.head()\n",
    "# %%\n",
    "## Split the categories using the / terminator and take the first category as main_category\n",
    "products_df['main_category'] = products_df['category'].str.split(' /', expand=True)[0]\n",
    "# %%\n",
    "## CHeck that the categories are unique\n",
    "products_df['main_category'].unique()"
   ]
  },
  {
   "cell_type": "code",
   "execution_count": 3,
   "metadata": {},
   "outputs": [
    {
     "data": {
      "text/plain": [
       "array(['Home & Garden', 'Baby & Kids Stuff', 'DIY Tools & Materials',\n",
       "       'Music, Films, Books & Games', 'Phones, Mobile Phones & Telecoms',\n",
       "       'Clothes, Footwear & Accessories', 'Other Goods',\n",
       "       'Health & Beauty', 'Sports, Leisure & Travel', 'Appliances',\n",
       "       'Computers & Software', 'Office Furniture & Equipment',\n",
       "       'Video Games & Consoles'], dtype=object)"
      ]
     },
     "execution_count": 3,
     "metadata": {},
     "output_type": "execute_result"
    }
   ],
   "source": [
    "products_df['category'].str.split(' /').str.get(0).unique()"
   ]
  },
  {
   "cell_type": "code",
   "execution_count": 4,
   "metadata": {},
   "outputs": [
    {
     "data": {
      "text/html": [
       "<div>\n",
       "<style scoped>\n",
       "    .dataframe tbody tr th:only-of-type {\n",
       "        vertical-align: middle;\n",
       "    }\n",
       "\n",
       "    .dataframe tbody tr th {\n",
       "        vertical-align: top;\n",
       "    }\n",
       "\n",
       "    .dataframe thead th {\n",
       "        text-align: right;\n",
       "    }\n",
       "</style>\n",
       "<table border=\"1\" class=\"dataframe\">\n",
       "  <thead>\n",
       "    <tr style=\"text-align: right;\">\n",
       "      <th></th>\n",
       "      <th>id</th>\n",
       "      <th>product_name</th>\n",
       "      <th>category</th>\n",
       "      <th>product_description</th>\n",
       "      <th>price</th>\n",
       "      <th>location</th>\n",
       "      <th>main_category</th>\n",
       "    </tr>\n",
       "  </thead>\n",
       "  <tbody>\n",
       "    <tr>\n",
       "      <th>0</th>\n",
       "      <td>243809c0-9cfc-4486-ad12-3b7a16605ba9</td>\n",
       "      <td>Mirror wall art | in Wokingham, Berkshire | Gu...</td>\n",
       "      <td>Home &amp; Garden / Dining, Living Room Furniture ...</td>\n",
       "      <td>Mirror wall art. Posted by Nisha in Dining, Li...</td>\n",
       "      <td>5.0</td>\n",
       "      <td>Wokingham, Berkshire</td>\n",
       "      <td>Home &amp; Garden</td>\n",
       "    </tr>\n",
       "    <tr>\n",
       "      <th>1</th>\n",
       "      <td>1c58d3f9-8b93-47ea-9415-204fcc2a22e6</td>\n",
       "      <td>Stainless Steel Food Steamer | in Inverness, H...</td>\n",
       "      <td>Home &amp; Garden / Other Household Goods</td>\n",
       "      <td>Morphy Richard’s (model no 48755)Stainless ste...</td>\n",
       "      <td>20.0</td>\n",
       "      <td>Inverness, Highland</td>\n",
       "      <td>Home &amp; Garden</td>\n",
       "    </tr>\n",
       "    <tr>\n",
       "      <th>2</th>\n",
       "      <td>860673f1-57f6-47ba-8d2f-13f9e05b8f9a</td>\n",
       "      <td>Sun loungers | in Skegness, Lincolnshire | Gum...</td>\n",
       "      <td>Home &amp; Garden / Garden &amp; Patio / Outdoor Setti...</td>\n",
       "      <td>I have 2 of these - collection only as I don’t...</td>\n",
       "      <td>20.0</td>\n",
       "      <td>Skegness, Lincolnshire</td>\n",
       "      <td>Home &amp; Garden</td>\n",
       "    </tr>\n",
       "    <tr>\n",
       "      <th>3</th>\n",
       "      <td>59948726-29be-4b35-ade5-bb2fd7331856</td>\n",
       "      <td>Coffee side table from Ammunition ammo box hai...</td>\n",
       "      <td>Home &amp; Garden / Dining, Living Room Furniture ...</td>\n",
       "      <td>Great reclaimed army ammunition box used as co...</td>\n",
       "      <td>115.0</td>\n",
       "      <td>Radstock, Somerset</td>\n",
       "      <td>Home &amp; Garden</td>\n",
       "    </tr>\n",
       "    <tr>\n",
       "      <th>4</th>\n",
       "      <td>16dbc860-696e-4cda-93f6-4dd4926573fb</td>\n",
       "      <td>Modern Shannon Sofa for sale at low cost | in ...</td>\n",
       "      <td>Home &amp; Garden / Dining, Living Room Furniture ...</td>\n",
       "      <td>New Design Shannon Corner sofa  5 Seater Avail...</td>\n",
       "      <td>450.0</td>\n",
       "      <td>Delph, Manchester</td>\n",
       "      <td>Home &amp; Garden</td>\n",
       "    </tr>\n",
       "  </tbody>\n",
       "</table>\n",
       "</div>"
      ],
      "text/plain": [
       "                                     id  \\\n",
       "0  243809c0-9cfc-4486-ad12-3b7a16605ba9   \n",
       "1  1c58d3f9-8b93-47ea-9415-204fcc2a22e6   \n",
       "2  860673f1-57f6-47ba-8d2f-13f9e05b8f9a   \n",
       "3  59948726-29be-4b35-ade5-bb2fd7331856   \n",
       "4  16dbc860-696e-4cda-93f6-4dd4926573fb   \n",
       "\n",
       "                                        product_name  \\\n",
       "0  Mirror wall art | in Wokingham, Berkshire | Gu...   \n",
       "1  Stainless Steel Food Steamer | in Inverness, H...   \n",
       "2  Sun loungers | in Skegness, Lincolnshire | Gum...   \n",
       "3  Coffee side table from Ammunition ammo box hai...   \n",
       "4  Modern Shannon Sofa for sale at low cost | in ...   \n",
       "\n",
       "                                            category  \\\n",
       "0  Home & Garden / Dining, Living Room Furniture ...   \n",
       "1              Home & Garden / Other Household Goods   \n",
       "2  Home & Garden / Garden & Patio / Outdoor Setti...   \n",
       "3  Home & Garden / Dining, Living Room Furniture ...   \n",
       "4  Home & Garden / Dining, Living Room Furniture ...   \n",
       "\n",
       "                                 product_description  price  \\\n",
       "0  Mirror wall art. Posted by Nisha in Dining, Li...    5.0   \n",
       "1  Morphy Richard’s (model no 48755)Stainless ste...   20.0   \n",
       "2  I have 2 of these - collection only as I don’t...   20.0   \n",
       "3  Great reclaimed army ammunition box used as co...  115.0   \n",
       "4  New Design Shannon Corner sofa  5 Seater Avail...  450.0   \n",
       "\n",
       "                 location  main_category  \n",
       "0    Wokingham, Berkshire  Home & Garden  \n",
       "1     Inverness, Highland  Home & Garden  \n",
       "2  Skegness, Lincolnshire  Home & Garden  \n",
       "3      Radstock, Somerset  Home & Garden  \n",
       "4       Delph, Manchester  Home & Garden  "
      ]
     },
     "execution_count": 4,
     "metadata": {},
     "output_type": "execute_result"
    }
   ],
   "source": [
    "## Main category check\n",
    "products_df.head()"
   ]
  },
  {
   "cell_type": "code",
   "execution_count": 5,
   "metadata": {},
   "outputs": [],
   "source": [
    "######## Extracting Labels for Classification\n",
    "products_df['main_category_code'] = products_df['main_category'].astype('category').cat.codes"
   ]
  },
  {
   "cell_type": "code",
   "execution_count": 6,
   "metadata": {},
   "outputs": [],
   "source": [
    "## Creating category decoder\n",
    "unique_cat_codes = list(products_df['main_category'].astype('category').cat.codes.unique())\n",
    "unique_cats = list(products_df['main_category'].unique())\n",
    "cat_decoder = {}\n",
    "for i in range(len(unique_cat_codes)):\n",
    "    cat_decoder[unique_cat_codes[i]] = unique_cats[i]\n",
    "\n",
    "\n"
   ]
  },
  {
   "cell_type": "code",
   "execution_count": 7,
   "metadata": {},
   "outputs": [
    {
     "data": {
      "text/plain": [
       "dict_keys([6, 1, 4, 7, 10, 2, 9, 5, 11, 0, 3, 8, 12])"
      ]
     },
     "execution_count": 7,
     "metadata": {},
     "output_type": "execute_result"
    }
   ],
   "source": [
    "cat_decoder.keys()"
   ]
  },
  {
   "cell_type": "code",
   "execution_count": 8,
   "metadata": {},
   "outputs": [
    {
     "data": {
      "text/plain": [
       "main_category                     main_category_code\n",
       "Home & Garden                     6                     834\n",
       "Office Furniture & Equipment      8                     647\n",
       "Computers & Software              3                     619\n",
       "Music, Films, Books & Games       7                     618\n",
       "Health & Beauty                   5                     613\n",
       "DIY Tools & Materials             4                     543\n",
       "Other Goods                       9                     531\n",
       "Appliances                        0                     521\n",
       "Video Games & Consoles            12                    515\n",
       "Sports, Leisure & Travel          11                    465\n",
       "Phones, Mobile Phones & Telecoms  10                    440\n",
       "Clothes, Footwear & Accessories   2                     413\n",
       "Baby & Kids Stuff                 1                     397\n",
       "dtype: int64"
      ]
     },
     "execution_count": 8,
     "metadata": {},
     "output_type": "execute_result"
    }
   ],
   "source": [
    "products_df[['main_category', 'main_category_code']].value_counts()"
   ]
  },
  {
   "cell_type": "code",
   "execution_count": 9,
   "metadata": {},
   "outputs": [
    {
     "data": {
      "text/html": [
       "<div>\n",
       "<style scoped>\n",
       "    .dataframe tbody tr th:only-of-type {\n",
       "        vertical-align: middle;\n",
       "    }\n",
       "\n",
       "    .dataframe tbody tr th {\n",
       "        vertical-align: top;\n",
       "    }\n",
       "\n",
       "    .dataframe thead th {\n",
       "        text-align: right;\n",
       "    }\n",
       "</style>\n",
       "<table border=\"1\" class=\"dataframe\">\n",
       "  <thead>\n",
       "    <tr style=\"text-align: right;\">\n",
       "      <th></th>\n",
       "      <th>id</th>\n",
       "      <th>product_id</th>\n",
       "    </tr>\n",
       "  </thead>\n",
       "  <tbody>\n",
       "    <tr>\n",
       "      <th>0</th>\n",
       "      <td>912bb259-3ad9-457b-9db1-ce1da9016057</td>\n",
       "      <td>5f5f57d7-778f-4336-bb10-b43863418c8c</td>\n",
       "    </tr>\n",
       "    <tr>\n",
       "      <th>1</th>\n",
       "      <td>b166d305-b852-4bdd-83f4-465b20da94fa</td>\n",
       "      <td>5f5f57d7-778f-4336-bb10-b43863418c8c</td>\n",
       "    </tr>\n",
       "    <tr>\n",
       "      <th>2</th>\n",
       "      <td>68f5a29d-0075-4d60-81c1-ab684a82e50c</td>\n",
       "      <td>c2c8949f-3cde-4651-a234-4a4a1b2a9ad4</td>\n",
       "    </tr>\n",
       "    <tr>\n",
       "      <th>3</th>\n",
       "      <td>f6a309d7-d247-446a-9b5e-aceefdd4334d</td>\n",
       "      <td>c2c8949f-3cde-4651-a234-4a4a1b2a9ad4</td>\n",
       "    </tr>\n",
       "    <tr>\n",
       "      <th>4</th>\n",
       "      <td>2c2b3a6f-15b3-4289-937a-15482d9f5781</td>\n",
       "      <td>8292aa4e-7f1b-4655-bf0e-f1f2c9e3ffaf</td>\n",
       "    </tr>\n",
       "  </tbody>\n",
       "</table>\n",
       "</div>"
      ],
      "text/plain": [
       "                                     id                            product_id\n",
       "0  912bb259-3ad9-457b-9db1-ce1da9016057  5f5f57d7-778f-4336-bb10-b43863418c8c\n",
       "1  b166d305-b852-4bdd-83f4-465b20da94fa  5f5f57d7-778f-4336-bb10-b43863418c8c\n",
       "2  68f5a29d-0075-4d60-81c1-ab684a82e50c  c2c8949f-3cde-4651-a234-4a4a1b2a9ad4\n",
       "3  f6a309d7-d247-446a-9b5e-aceefdd4334d  c2c8949f-3cde-4651-a234-4a4a1b2a9ad4\n",
       "4  2c2b3a6f-15b3-4289-937a-15482d9f5781  8292aa4e-7f1b-4655-bf0e-f1f2c9e3ffaf"
      ]
     },
     "execution_count": 9,
     "metadata": {},
     "output_type": "execute_result"
    }
   ],
   "source": [
    "images_df.head()"
   ]
  },
  {
   "cell_type": "code",
   "execution_count": 10,
   "metadata": {},
   "outputs": [],
   "source": [
    "training_data = pd.merge(left=images_df, right=products_df, left_on='product_id', right_on='id', how='left')"
   ]
  },
  {
   "cell_type": "code",
   "execution_count": 11,
   "metadata": {},
   "outputs": [
    {
     "name": "stdout",
     "output_type": "stream",
     "text": [
      "<class 'pandas.core.frame.DataFrame'>\n",
      "Int64Index: 12604 entries, 0 to 12603\n",
      "Data columns (total 10 columns):\n",
      " #   Column               Non-Null Count  Dtype  \n",
      "---  ------               --------------  -----  \n",
      " 0   id_x                 12604 non-null  object \n",
      " 1   product_id           12604 non-null  object \n",
      " 2   id_y                 12604 non-null  object \n",
      " 3   product_name         12604 non-null  object \n",
      " 4   category             12604 non-null  object \n",
      " 5   product_description  12604 non-null  object \n",
      " 6   price                12604 non-null  float64\n",
      " 7   location             12604 non-null  object \n",
      " 8   main_category        12604 non-null  object \n",
      " 9   main_category_code   12604 non-null  int8   \n",
      "dtypes: float64(1), int8(1), object(8)\n",
      "memory usage: 997.0+ KB\n"
     ]
    }
   ],
   "source": [
    "training_data.info()"
   ]
  },
  {
   "cell_type": "code",
   "execution_count": 12,
   "metadata": {},
   "outputs": [],
   "source": [
    "training_data = training_data[['id_x', 'product_id', 'main_category_code']]"
   ]
  },
  {
   "cell_type": "code",
   "execution_count": 13,
   "metadata": {},
   "outputs": [],
   "source": [
    "training_data = training_data.rename(columns={\"id_x\": \"id\", \"main_category_code\": \"labels\"})"
   ]
  },
  {
   "cell_type": "code",
   "execution_count": 14,
   "metadata": {},
   "outputs": [
    {
     "data": {
      "text/html": [
       "<div>\n",
       "<style scoped>\n",
       "    .dataframe tbody tr th:only-of-type {\n",
       "        vertical-align: middle;\n",
       "    }\n",
       "\n",
       "    .dataframe tbody tr th {\n",
       "        vertical-align: top;\n",
       "    }\n",
       "\n",
       "    .dataframe thead th {\n",
       "        text-align: right;\n",
       "    }\n",
       "</style>\n",
       "<table border=\"1\" class=\"dataframe\">\n",
       "  <thead>\n",
       "    <tr style=\"text-align: right;\">\n",
       "      <th></th>\n",
       "      <th>id</th>\n",
       "      <th>product_id</th>\n",
       "      <th>labels</th>\n",
       "    </tr>\n",
       "  </thead>\n",
       "  <tbody>\n",
       "    <tr>\n",
       "      <th>0</th>\n",
       "      <td>912bb259-3ad9-457b-9db1-ce1da9016057</td>\n",
       "      <td>5f5f57d7-778f-4336-bb10-b43863418c8c</td>\n",
       "      <td>6</td>\n",
       "    </tr>\n",
       "    <tr>\n",
       "      <th>1</th>\n",
       "      <td>b166d305-b852-4bdd-83f4-465b20da94fa</td>\n",
       "      <td>5f5f57d7-778f-4336-bb10-b43863418c8c</td>\n",
       "      <td>6</td>\n",
       "    </tr>\n",
       "    <tr>\n",
       "      <th>2</th>\n",
       "      <td>68f5a29d-0075-4d60-81c1-ab684a82e50c</td>\n",
       "      <td>c2c8949f-3cde-4651-a234-4a4a1b2a9ad4</td>\n",
       "      <td>6</td>\n",
       "    </tr>\n",
       "    <tr>\n",
       "      <th>3</th>\n",
       "      <td>f6a309d7-d247-446a-9b5e-aceefdd4334d</td>\n",
       "      <td>c2c8949f-3cde-4651-a234-4a4a1b2a9ad4</td>\n",
       "      <td>6</td>\n",
       "    </tr>\n",
       "    <tr>\n",
       "      <th>4</th>\n",
       "      <td>2c2b3a6f-15b3-4289-937a-15482d9f5781</td>\n",
       "      <td>8292aa4e-7f1b-4655-bf0e-f1f2c9e3ffaf</td>\n",
       "      <td>6</td>\n",
       "    </tr>\n",
       "    <tr>\n",
       "      <th>...</th>\n",
       "      <td>...</td>\n",
       "      <td>...</td>\n",
       "      <td>...</td>\n",
       "    </tr>\n",
       "    <tr>\n",
       "      <th>12599</th>\n",
       "      <td>cdec1c5c-c4b1-42db-afbe-3fa68ea4b87d</td>\n",
       "      <td>2b0a652b-46a2-4297-b619-5efeeb222787</td>\n",
       "      <td>12</td>\n",
       "    </tr>\n",
       "    <tr>\n",
       "      <th>12600</th>\n",
       "      <td>dc99e40f-6b15-494d-9fb7-f0d02e9781f9</td>\n",
       "      <td>719fd40a-870e-4144-b324-55dff2e66fb4</td>\n",
       "      <td>12</td>\n",
       "    </tr>\n",
       "    <tr>\n",
       "      <th>12601</th>\n",
       "      <td>c8488028-bf07-4258-a4c2-56d2fe387835</td>\n",
       "      <td>719fd40a-870e-4144-b324-55dff2e66fb4</td>\n",
       "      <td>12</td>\n",
       "    </tr>\n",
       "    <tr>\n",
       "      <th>12602</th>\n",
       "      <td>c6113145-89c8-47cd-9211-38f29d016cc7</td>\n",
       "      <td>86d1806b-5575-4a7e-9160-f24f12be6c95</td>\n",
       "      <td>12</td>\n",
       "    </tr>\n",
       "    <tr>\n",
       "      <th>12603</th>\n",
       "      <td>ed2aaf88-616c-4e6b-af49-bbdf7c0fbd06</td>\n",
       "      <td>86d1806b-5575-4a7e-9160-f24f12be6c95</td>\n",
       "      <td>12</td>\n",
       "    </tr>\n",
       "  </tbody>\n",
       "</table>\n",
       "<p>12604 rows × 3 columns</p>\n",
       "</div>"
      ],
      "text/plain": [
       "                                         id  \\\n",
       "0      912bb259-3ad9-457b-9db1-ce1da9016057   \n",
       "1      b166d305-b852-4bdd-83f4-465b20da94fa   \n",
       "2      68f5a29d-0075-4d60-81c1-ab684a82e50c   \n",
       "3      f6a309d7-d247-446a-9b5e-aceefdd4334d   \n",
       "4      2c2b3a6f-15b3-4289-937a-15482d9f5781   \n",
       "...                                     ...   \n",
       "12599  cdec1c5c-c4b1-42db-afbe-3fa68ea4b87d   \n",
       "12600  dc99e40f-6b15-494d-9fb7-f0d02e9781f9   \n",
       "12601  c8488028-bf07-4258-a4c2-56d2fe387835   \n",
       "12602  c6113145-89c8-47cd-9211-38f29d016cc7   \n",
       "12603  ed2aaf88-616c-4e6b-af49-bbdf7c0fbd06   \n",
       "\n",
       "                                 product_id  labels  \n",
       "0      5f5f57d7-778f-4336-bb10-b43863418c8c       6  \n",
       "1      5f5f57d7-778f-4336-bb10-b43863418c8c       6  \n",
       "2      c2c8949f-3cde-4651-a234-4a4a1b2a9ad4       6  \n",
       "3      c2c8949f-3cde-4651-a234-4a4a1b2a9ad4       6  \n",
       "4      8292aa4e-7f1b-4655-bf0e-f1f2c9e3ffaf       6  \n",
       "...                                     ...     ...  \n",
       "12599  2b0a652b-46a2-4297-b619-5efeeb222787      12  \n",
       "12600  719fd40a-870e-4144-b324-55dff2e66fb4      12  \n",
       "12601  719fd40a-870e-4144-b324-55dff2e66fb4      12  \n",
       "12602  86d1806b-5575-4a7e-9160-f24f12be6c95      12  \n",
       "12603  86d1806b-5575-4a7e-9160-f24f12be6c95      12  \n",
       "\n",
       "[12604 rows x 3 columns]"
      ]
     },
     "execution_count": 14,
     "metadata": {},
     "output_type": "execute_result"
    }
   ],
   "source": [
    "training_data"
   ]
  },
  {
   "cell_type": "code",
   "execution_count": 15,
   "metadata": {},
   "outputs": [
    {
     "name": "stdout",
     "output_type": "stream",
     "text": [
      "<class 'pandas.core.frame.DataFrame'>\n",
      "Int64Index: 12604 entries, 0 to 12603\n",
      "Data columns (total 3 columns):\n",
      " #   Column      Non-Null Count  Dtype \n",
      "---  ------      --------------  ----- \n",
      " 0   id          12604 non-null  object\n",
      " 1   product_id  12604 non-null  object\n",
      " 2   labels      12604 non-null  int8  \n",
      "dtypes: int8(1), object(2)\n",
      "memory usage: 307.7+ KB\n"
     ]
    }
   ],
   "source": [
    "training_data.info()"
   ]
  },
  {
   "cell_type": "code",
   "execution_count": 16,
   "metadata": {},
   "outputs": [],
   "source": [
    "training_data.to_csv('training_data.csv')"
   ]
  },
  {
   "cell_type": "code",
   "execution_count": null,
   "metadata": {},
   "outputs": [],
   "source": []
  }
 ],
 "metadata": {
  "kernelspec": {
   "display_name": "base",
   "language": "python",
   "name": "python3"
  },
  "language_info": {
   "codemirror_mode": {
    "name": "ipython",
    "version": 3
   },
   "file_extension": ".py",
   "mimetype": "text/x-python",
   "name": "python",
   "nbconvert_exporter": "python",
   "pygments_lexer": "ipython3",
   "version": "3.9.16"
  },
  "orig_nbformat": 4,
  "vscode": {
   "interpreter": {
    "hash": "41d96f50d431f0eadd6ae4598d645fed2abe58c574d5929352786e49115bfdfd"
   }
  }
 },
 "nbformat": 4,
 "nbformat_minor": 2
}
